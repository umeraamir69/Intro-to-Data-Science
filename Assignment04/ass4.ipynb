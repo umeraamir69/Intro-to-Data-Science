{
 "cells": [
  {
   "cell_type": "code",
   "execution_count": 1,
   "metadata": {
    "id": "pGjDO4l-0CXh"
   },
   "outputs": [],
   "source": [
    "# Sunday December 10 ,2023\n",
    "# CSC461 – Assignment4 – NLP\n",
    "# Muhammad Umer Aamir\n",
    "# FA21-BSE-114\n",
    "# NLP Token BoW ,Tf , IDf , tf* IDf , Cosine Similarity , Mahattan Disatance , euclidean Distance"
   ]
  },
  {
   "cell_type": "code",
   "execution_count": 2,
   "metadata": {
    "id": "geBDHbNzzNCi"
   },
   "outputs": [],
   "source": [
    "# imports\n",
    "from sklearn.feature_extraction.text import CountVectorizer\n",
    "from sklearn.feature_extraction.text import TfidfVectorizer\n",
    "from sklearn.metrics.pairwise import cosine_similarity\n",
    "import math\n",
    "import pandas as pd\n",
    "import numpy as np\n",
    "from scipy.spatial.distance import cityblock"
   ]
  },
  {
   "cell_type": "code",
   "execution_count": 3,
   "metadata": {
    "id": "htTMN-nfywUn"
   },
   "outputs": [],
   "source": [
    "#given sentences\n",
    "\n",
    "s1 = \"data science is one of the most important courses in computer science\"\n",
    "s2 = \"this is one of the best data science courses\"\n",
    "s3 = \"the data scientists perform data analysis\""
   ]
  },
  {
   "cell_type": "code",
   "execution_count": 4,
   "metadata": {
    "colab": {
     "base_uri": "https://localhost:8080/"
    },
    "id": "drJfJ80OzIDR",
    "outputId": "6de09fb1-5bf9-461e-a74f-6c7d69a8f889"
   },
   "outputs": [],
   "source": [
    "#combining to make corpus\n",
    "corpus = [s1, s2 , s3]\n",
    "count_vectorizer = CountVectorizer()\n",
    "c_vector_matrix_exp1 = count_vectorizer.fit_transform(corpus)"
   ]
  },
  {
   "cell_type": "code",
   "execution_count": 5,
   "metadata": {
    "colab": {
     "base_uri": "https://localhost:8080/"
    },
    "id": "1xI5VK0pzQq_",
    "outputId": "f4025002-9d12-479a-9c26-7479c548edb6"
   },
   "outputs": [],
   "source": [
    "#geting Vocabulary Out\n",
    "\n",
    "tokens = count_vectorizer.get_feature_names_out()"
   ]
  },
  {
   "cell_type": "code",
   "execution_count": 6,
   "metadata": {
    "cellView": "code",
    "colab": {
     "base_uri": "https://localhost:8080/",
     "height": 200
    },
    "id": "j6od_Ubs0pAp",
    "outputId": "b6135d00-7c2b-41ba-9fe8-d6a9624df488"
   },
   "outputs": [
    {
     "data": {
      "text/html": [
       "<div>\n",
       "<style scoped>\n",
       "    .dataframe tbody tr th:only-of-type {\n",
       "        vertical-align: middle;\n",
       "    }\n",
       "\n",
       "    .dataframe tbody tr th {\n",
       "        vertical-align: top;\n",
       "    }\n",
       "\n",
       "    .dataframe thead th {\n",
       "        text-align: right;\n",
       "    }\n",
       "</style>\n",
       "<table border=\"1\" class=\"dataframe\">\n",
       "  <thead>\n",
       "    <tr style=\"text-align: right;\">\n",
       "      <th></th>\n",
       "      <th>analysis</th>\n",
       "      <th>best</th>\n",
       "      <th>computer</th>\n",
       "      <th>courses</th>\n",
       "      <th>data</th>\n",
       "      <th>important</th>\n",
       "      <th>in</th>\n",
       "      <th>is</th>\n",
       "      <th>most</th>\n",
       "      <th>of</th>\n",
       "      <th>one</th>\n",
       "      <th>perform</th>\n",
       "      <th>science</th>\n",
       "      <th>scientists</th>\n",
       "      <th>the</th>\n",
       "      <th>this</th>\n",
       "    </tr>\n",
       "  </thead>\n",
       "  <tbody>\n",
       "    <tr>\n",
       "      <th>0</th>\n",
       "      <td>0</td>\n",
       "      <td>0</td>\n",
       "      <td>1</td>\n",
       "      <td>1</td>\n",
       "      <td>1</td>\n",
       "      <td>1</td>\n",
       "      <td>1</td>\n",
       "      <td>1</td>\n",
       "      <td>1</td>\n",
       "      <td>1</td>\n",
       "      <td>1</td>\n",
       "      <td>0</td>\n",
       "      <td>2</td>\n",
       "      <td>0</td>\n",
       "      <td>1</td>\n",
       "      <td>0</td>\n",
       "    </tr>\n",
       "    <tr>\n",
       "      <th>1</th>\n",
       "      <td>0</td>\n",
       "      <td>1</td>\n",
       "      <td>0</td>\n",
       "      <td>1</td>\n",
       "      <td>1</td>\n",
       "      <td>0</td>\n",
       "      <td>0</td>\n",
       "      <td>1</td>\n",
       "      <td>0</td>\n",
       "      <td>1</td>\n",
       "      <td>1</td>\n",
       "      <td>0</td>\n",
       "      <td>1</td>\n",
       "      <td>0</td>\n",
       "      <td>1</td>\n",
       "      <td>1</td>\n",
       "    </tr>\n",
       "    <tr>\n",
       "      <th>2</th>\n",
       "      <td>1</td>\n",
       "      <td>0</td>\n",
       "      <td>0</td>\n",
       "      <td>0</td>\n",
       "      <td>2</td>\n",
       "      <td>0</td>\n",
       "      <td>0</td>\n",
       "      <td>0</td>\n",
       "      <td>0</td>\n",
       "      <td>0</td>\n",
       "      <td>0</td>\n",
       "      <td>1</td>\n",
       "      <td>0</td>\n",
       "      <td>1</td>\n",
       "      <td>1</td>\n",
       "      <td>0</td>\n",
       "    </tr>\n",
       "  </tbody>\n",
       "</table>\n",
       "</div>"
      ],
      "text/plain": [
       "   analysis  best  computer  courses  data  important  in  is  most  of  one  \\\n",
       "0         0     0         1        1     1          1   1   1     1   1    1   \n",
       "1         0     1         0        1     1          0   0   1     0   1    1   \n",
       "2         1     0         0        0     2          0   0   0     0   0    0   \n",
       "\n",
       "   perform  science  scientists  the  this  \n",
       "0        0        2           0    1     0  \n",
       "1        0        1           0    1     1  \n",
       "2        1        0           1    1     0  "
      ]
     },
     "execution_count": 6,
     "metadata": {},
     "output_type": "execute_result"
    }
   ],
   "source": [
    "#BoW Matrix\n",
    "bow = pd.DataFrame(data = c_vector_matrix_exp1.toarray(), columns = tokens)\n",
    "bow"
   ]
  },
  {
   "cell_type": "code",
   "execution_count": 7,
   "metadata": {
    "colab": {
     "base_uri": "https://localhost:8080/"
    },
    "id": "lMXsaFaIGohL",
    "outputId": "d093b10c-10a0-46be-da4a-af2268777c81"
   },
   "outputs": [
    {
     "data": {
      "text/html": [
       "<div>\n",
       "<style scoped>\n",
       "    .dataframe tbody tr th:only-of-type {\n",
       "        vertical-align: middle;\n",
       "    }\n",
       "\n",
       "    .dataframe tbody tr th {\n",
       "        vertical-align: top;\n",
       "    }\n",
       "\n",
       "    .dataframe thead th {\n",
       "        text-align: right;\n",
       "    }\n",
       "</style>\n",
       "<table border=\"1\" class=\"dataframe\">\n",
       "  <thead>\n",
       "    <tr style=\"text-align: right;\">\n",
       "      <th></th>\n",
       "      <th>analysis</th>\n",
       "      <th>best</th>\n",
       "      <th>computer</th>\n",
       "      <th>courses</th>\n",
       "      <th>data</th>\n",
       "      <th>important</th>\n",
       "      <th>in</th>\n",
       "      <th>is</th>\n",
       "      <th>most</th>\n",
       "      <th>of</th>\n",
       "      <th>one</th>\n",
       "      <th>perform</th>\n",
       "      <th>science</th>\n",
       "      <th>scientists</th>\n",
       "      <th>the</th>\n",
       "      <th>this</th>\n",
       "    </tr>\n",
       "  </thead>\n",
       "  <tbody>\n",
       "    <tr>\n",
       "      <th>0</th>\n",
       "      <td>0.000000</td>\n",
       "      <td>0.000000</td>\n",
       "      <td>0.083333</td>\n",
       "      <td>0.083333</td>\n",
       "      <td>0.083333</td>\n",
       "      <td>0.083333</td>\n",
       "      <td>0.083333</td>\n",
       "      <td>0.083333</td>\n",
       "      <td>0.083333</td>\n",
       "      <td>0.083333</td>\n",
       "      <td>0.083333</td>\n",
       "      <td>0.000000</td>\n",
       "      <td>0.166667</td>\n",
       "      <td>0.000000</td>\n",
       "      <td>0.083333</td>\n",
       "      <td>0.000000</td>\n",
       "    </tr>\n",
       "    <tr>\n",
       "      <th>1</th>\n",
       "      <td>0.000000</td>\n",
       "      <td>0.111111</td>\n",
       "      <td>0.000000</td>\n",
       "      <td>0.111111</td>\n",
       "      <td>0.111111</td>\n",
       "      <td>0.000000</td>\n",
       "      <td>0.000000</td>\n",
       "      <td>0.111111</td>\n",
       "      <td>0.000000</td>\n",
       "      <td>0.111111</td>\n",
       "      <td>0.111111</td>\n",
       "      <td>0.000000</td>\n",
       "      <td>0.111111</td>\n",
       "      <td>0.000000</td>\n",
       "      <td>0.111111</td>\n",
       "      <td>0.111111</td>\n",
       "    </tr>\n",
       "    <tr>\n",
       "      <th>2</th>\n",
       "      <td>0.166667</td>\n",
       "      <td>0.000000</td>\n",
       "      <td>0.000000</td>\n",
       "      <td>0.000000</td>\n",
       "      <td>0.333333</td>\n",
       "      <td>0.000000</td>\n",
       "      <td>0.000000</td>\n",
       "      <td>0.000000</td>\n",
       "      <td>0.000000</td>\n",
       "      <td>0.000000</td>\n",
       "      <td>0.000000</td>\n",
       "      <td>0.166667</td>\n",
       "      <td>0.000000</td>\n",
       "      <td>0.166667</td>\n",
       "      <td>0.166667</td>\n",
       "      <td>0.000000</td>\n",
       "    </tr>\n",
       "  </tbody>\n",
       "</table>\n",
       "</div>"
      ],
      "text/plain": [
       "   analysis      best  computer   courses      data  important        in  \\\n",
       "0  0.000000  0.000000  0.083333  0.083333  0.083333   0.083333  0.083333   \n",
       "1  0.000000  0.111111  0.000000  0.111111  0.111111   0.000000  0.000000   \n",
       "2  0.166667  0.000000  0.000000  0.000000  0.333333   0.000000  0.000000   \n",
       "\n",
       "         is      most        of       one   perform   science  scientists  \\\n",
       "0  0.083333  0.083333  0.083333  0.083333  0.000000  0.166667    0.000000   \n",
       "1  0.111111  0.000000  0.111111  0.111111  0.000000  0.111111    0.000000   \n",
       "2  0.000000  0.000000  0.000000  0.000000  0.166667  0.000000    0.166667   \n",
       "\n",
       "        the      this  \n",
       "0  0.083333  0.000000  \n",
       "1  0.111111  0.111111  \n",
       "2  0.166667  0.000000  "
      ]
     },
     "execution_count": 7,
     "metadata": {},
     "output_type": "execute_result"
    }
   ],
   "source": [
    "# Tf Term Frequency\n",
    "tf = bow.div(bow.sum(axis=1), axis=0)\n",
    "tf"
   ]
  },
  {
   "cell_type": "code",
   "execution_count": null,
   "metadata": {
    "colab": {
     "base_uri": "https://localhost:8080/"
    },
    "id": "ifDveNYoIQbk",
    "outputId": "034498c5-31d2-47b2-9717-4ecadce70634"
   },
   "outputs": [],
   "source": [
    "# Calculate IDF\n",
    "\n",
    "N = bow.shape[0]\n",
    "df = (bow > 0).sum(axis=0)\n",
    "# idf formula\n",
    "idf = np.log10(N / df) + 1\n",
    "idf_tbl = pd.DataFrame(list(idf.items()), columns=['token', 'idf'])\n",
    "idf_tbl"
   ]
  },
  {
   "cell_type": "code",
   "execution_count": 9,
   "metadata": {
    "colab": {
     "base_uri": "https://localhost:8080/",
     "height": 162
    },
    "id": "WLA9V6iB2ehU",
    "outputId": "0731fe18-ae20-4649-f66c-4f56aa193d9a"
   },
   "outputs": [
    {
     "data": {
      "text/html": [
       "<div>\n",
       "<style scoped>\n",
       "    .dataframe tbody tr th:only-of-type {\n",
       "        vertical-align: middle;\n",
       "    }\n",
       "\n",
       "    .dataframe tbody tr th {\n",
       "        vertical-align: top;\n",
       "    }\n",
       "\n",
       "    .dataframe thead th {\n",
       "        text-align: right;\n",
       "    }\n",
       "</style>\n",
       "<table border=\"1\" class=\"dataframe\">\n",
       "  <thead>\n",
       "    <tr style=\"text-align: right;\">\n",
       "      <th></th>\n",
       "      <th>analysis</th>\n",
       "      <th>best</th>\n",
       "      <th>computer</th>\n",
       "      <th>courses</th>\n",
       "      <th>data</th>\n",
       "      <th>important</th>\n",
       "      <th>in</th>\n",
       "      <th>is</th>\n",
       "      <th>most</th>\n",
       "      <th>of</th>\n",
       "      <th>one</th>\n",
       "      <th>perform</th>\n",
       "      <th>science</th>\n",
       "      <th>scientists</th>\n",
       "      <th>the</th>\n",
       "      <th>this</th>\n",
       "    </tr>\n",
       "  </thead>\n",
       "  <tbody>\n",
       "    <tr>\n",
       "      <th>0</th>\n",
       "      <td>0.000000</td>\n",
       "      <td>0.000000</td>\n",
       "      <td>0.327476</td>\n",
       "      <td>0.249054</td>\n",
       "      <td>0.193412</td>\n",
       "      <td>0.327476</td>\n",
       "      <td>0.327476</td>\n",
       "      <td>0.249054</td>\n",
       "      <td>0.327476</td>\n",
       "      <td>0.249054</td>\n",
       "      <td>0.249054</td>\n",
       "      <td>0.000000</td>\n",
       "      <td>0.498107</td>\n",
       "      <td>0.000000</td>\n",
       "      <td>0.193412</td>\n",
       "      <td>0.000000</td>\n",
       "    </tr>\n",
       "    <tr>\n",
       "      <th>1</th>\n",
       "      <td>0.000000</td>\n",
       "      <td>0.422968</td>\n",
       "      <td>0.000000</td>\n",
       "      <td>0.321678</td>\n",
       "      <td>0.249812</td>\n",
       "      <td>0.000000</td>\n",
       "      <td>0.000000</td>\n",
       "      <td>0.321678</td>\n",
       "      <td>0.000000</td>\n",
       "      <td>0.321678</td>\n",
       "      <td>0.321678</td>\n",
       "      <td>0.000000</td>\n",
       "      <td>0.321678</td>\n",
       "      <td>0.000000</td>\n",
       "      <td>0.249812</td>\n",
       "      <td>0.422968</td>\n",
       "    </tr>\n",
       "    <tr>\n",
       "      <th>2</th>\n",
       "      <td>0.459115</td>\n",
       "      <td>0.000000</td>\n",
       "      <td>0.000000</td>\n",
       "      <td>0.000000</td>\n",
       "      <td>0.542321</td>\n",
       "      <td>0.000000</td>\n",
       "      <td>0.000000</td>\n",
       "      <td>0.000000</td>\n",
       "      <td>0.000000</td>\n",
       "      <td>0.000000</td>\n",
       "      <td>0.000000</td>\n",
       "      <td>0.459115</td>\n",
       "      <td>0.000000</td>\n",
       "      <td>0.459115</td>\n",
       "      <td>0.271161</td>\n",
       "      <td>0.000000</td>\n",
       "    </tr>\n",
       "  </tbody>\n",
       "</table>\n",
       "</div>"
      ],
      "text/plain": [
       "   analysis      best  computer   courses      data  important        in  \\\n",
       "0  0.000000  0.000000  0.327476  0.249054  0.193412   0.327476  0.327476   \n",
       "1  0.000000  0.422968  0.000000  0.321678  0.249812   0.000000  0.000000   \n",
       "2  0.459115  0.000000  0.000000  0.000000  0.542321   0.000000  0.000000   \n",
       "\n",
       "         is      most        of       one   perform   science  scientists  \\\n",
       "0  0.249054  0.327476  0.249054  0.249054  0.000000  0.498107    0.000000   \n",
       "1  0.321678  0.000000  0.321678  0.321678  0.000000  0.321678    0.000000   \n",
       "2  0.000000  0.000000  0.000000  0.000000  0.459115  0.000000    0.459115   \n",
       "\n",
       "        the      this  \n",
       "0  0.193412  0.000000  \n",
       "1  0.249812  0.422968  \n",
       "2  0.271161  0.000000  "
      ]
     },
     "execution_count": 9,
     "metadata": {},
     "output_type": "execute_result"
    }
   ],
   "source": [
    "#convert tf.idf matrix to a Pandas dataframe\n",
    "\n",
    "tfidf_vect_exp1 = TfidfVectorizer()\n",
    "t_tfidf_matrix_exp1 = tfidf_vect_exp1.fit_transform(corpus)\n",
    "t_tfidf_matrix_exp1\n",
    "\n",
    "df_t_exp1 = pd.DataFrame(data = t_tfidf_matrix_exp1.toarray(), columns = tokens)\n",
    "df_t_exp1"
   ]
  },
  {
   "cell_type": "code",
   "execution_count": 10,
   "metadata": {
    "colab": {
     "base_uri": "https://localhost:8080/"
    },
    "id": "cWMoiJbf1Cd9",
    "outputId": "ab00c51b-c9d6-4f43-8272-76d7aab38d9a"
   },
   "outputs": [
    {
     "data": {
      "text/plain": [
       "array([[1.        , 0.71269665, 0.28347335],\n",
       "       [0.71269665, 1.        , 0.35355339],\n",
       "       [0.28347335, 0.35355339, 1.        ]])"
      ]
     },
     "execution_count": 10,
     "metadata": {},
     "output_type": "execute_result"
    }
   ],
   "source": [
    "#generate cosine similarity matrix\n",
    "\n",
    "c_cosine_similarity_matrix_exp1 = cosine_similarity(c_vector_matrix_exp1)\n",
    "c_cosine_similarity_matrix_exp1"
   ]
  },
  {
   "cell_type": "code",
   "execution_count": 11,
   "metadata": {
    "colab": {
     "base_uri": "https://localhost:8080/",
     "height": 142
    },
    "id": "D9ARpcWI1YIF",
    "outputId": "778e0575-3d33-4eb9-e403-181fed4512b0"
   },
   "outputs": [
    {
     "data": {
      "text/html": [
       "<div>\n",
       "<style scoped>\n",
       "    .dataframe tbody tr th:only-of-type {\n",
       "        vertical-align: middle;\n",
       "    }\n",
       "\n",
       "    .dataframe tbody tr th {\n",
       "        vertical-align: top;\n",
       "    }\n",
       "\n",
       "    .dataframe thead th {\n",
       "        text-align: right;\n",
       "    }\n",
       "</style>\n",
       "<table border=\"1\" class=\"dataframe\">\n",
       "  <thead>\n",
       "    <tr style=\"text-align: right;\">\n",
       "      <th></th>\n",
       "      <th>0</th>\n",
       "      <th>1</th>\n",
       "      <th>2</th>\n",
       "    </tr>\n",
       "  </thead>\n",
       "  <tbody>\n",
       "    <tr>\n",
       "      <th>0</th>\n",
       "      <td>1.000000</td>\n",
       "      <td>0.712697</td>\n",
       "      <td>0.283473</td>\n",
       "    </tr>\n",
       "    <tr>\n",
       "      <th>1</th>\n",
       "      <td>0.712697</td>\n",
       "      <td>1.000000</td>\n",
       "      <td>0.353553</td>\n",
       "    </tr>\n",
       "    <tr>\n",
       "      <th>2</th>\n",
       "      <td>0.283473</td>\n",
       "      <td>0.353553</td>\n",
       "      <td>1.000000</td>\n",
       "    </tr>\n",
       "  </tbody>\n",
       "</table>\n",
       "</div>"
      ],
      "text/plain": [
       "          0         1         2\n",
       "0  1.000000  0.712697  0.283473\n",
       "1  0.712697  1.000000  0.353553\n",
       "2  0.283473  0.353553  1.000000"
      ]
     },
     "execution_count": 11,
     "metadata": {},
     "output_type": "execute_result"
    }
   ],
   "source": [
    "#convert cosine similarity matrix to Pandas dataframe\n",
    "\n",
    "df_c_similarity_exp1 = pd.DataFrame(data = c_cosine_similarity_matrix_exp1)\n",
    "df_c_similarity_exp1"
   ]
  },
  {
   "cell_type": "code",
   "execution_count": 12,
   "metadata": {
    "colab": {
     "base_uri": "https://localhost:8080/"
    },
    "id": "XYv-Asyi2XSk",
    "outputId": "fe7c0c83-624a-4c73-9fbd-d69e0eaf746b"
   },
   "outputs": [
    {
     "data": {
      "text/plain": [
       "array(['analysis', 'best', 'computer', 'courses', 'data', 'important',\n",
       "       'in', 'is', 'most', 'of', 'one', 'perform', 'science',\n",
       "       'scientists', 'the', 'this'], dtype=object)"
      ]
     },
     "execution_count": 12,
     "metadata": {},
     "output_type": "execute_result"
    }
   ],
   "source": [
    "#use get_feature_names_out() to extract vocabulary\n",
    "\n",
    "t_tokens_exp1 = tfidf_vect_exp1.get_feature_names_out()\n",
    "t_tokens_exp1"
   ]
  },
  {
   "cell_type": "code",
   "execution_count": 13,
   "metadata": {
    "colab": {
     "base_uri": "https://localhost:8080/"
    },
    "id": "Rn3_nkez2k1_",
    "outputId": "61861054-ece3-459c-ce45-cacc900eb81e"
   },
   "outputs": [
    {
     "data": {
      "text/html": [
       "<div>\n",
       "<style scoped>\n",
       "    .dataframe tbody tr th:only-of-type {\n",
       "        vertical-align: middle;\n",
       "    }\n",
       "\n",
       "    .dataframe tbody tr th {\n",
       "        vertical-align: top;\n",
       "    }\n",
       "\n",
       "    .dataframe thead th {\n",
       "        text-align: right;\n",
       "    }\n",
       "</style>\n",
       "<table border=\"1\" class=\"dataframe\">\n",
       "  <thead>\n",
       "    <tr style=\"text-align: right;\">\n",
       "      <th></th>\n",
       "      <th>0</th>\n",
       "      <th>1</th>\n",
       "      <th>2</th>\n",
       "    </tr>\n",
       "  </thead>\n",
       "  <tbody>\n",
       "    <tr>\n",
       "      <th>0</th>\n",
       "      <td>1.000000</td>\n",
       "      <td>0.577324</td>\n",
       "      <td>0.157338</td>\n",
       "    </tr>\n",
       "    <tr>\n",
       "      <th>1</th>\n",
       "      <td>0.577324</td>\n",
       "      <td>1.000000</td>\n",
       "      <td>0.203217</td>\n",
       "    </tr>\n",
       "    <tr>\n",
       "      <th>2</th>\n",
       "      <td>0.157338</td>\n",
       "      <td>0.203217</td>\n",
       "      <td>1.000000</td>\n",
       "    </tr>\n",
       "  </tbody>\n",
       "</table>\n",
       "</div>"
      ],
      "text/plain": [
       "          0         1         2\n",
       "0  1.000000  0.577324  0.157338\n",
       "1  0.577324  1.000000  0.203217\n",
       "2  0.157338  0.203217  1.000000"
      ]
     },
     "execution_count": 13,
     "metadata": {},
     "output_type": "execute_result"
    }
   ],
   "source": [
    "# cosine similarity matrix\n",
    "\n",
    "t_cosine_similarity_matrix_exp1 = cosine_similarity(t_tfidf_matrix_exp1)\n",
    "df_t_similarity_exp1 = pd.DataFrame(data = t_cosine_similarity_matrix_exp1)\n",
    "df_t_similarity_exp1"
   ]
  },
  {
   "cell_type": "code",
   "execution_count": 14,
   "metadata": {
    "colab": {
     "base_uri": "https://localhost:8080/"
    },
    "id": "7EypjKuRnlme",
    "outputId": "312da09b-d49b-4d2a-bbd7-a34afda80df2"
   },
   "outputs": [
    {
     "data": {
      "text/plain": [
       "0.04587985950633272"
      ]
     },
     "execution_count": 14,
     "metadata": {},
     "output_type": "execute_result"
    }
   ],
   "source": [
    "#manhattan distance) between three document \n",
    "\n",
    "cityblock(df_t_exp1.iloc[0], df_t_exp1.iloc[1],df_t_exp1.iloc[2])"
   ]
  },
  {
   "cell_type": "code",
   "execution_count": 15,
   "metadata": {
    "colab": {
     "base_uri": "https://localhost:8080/"
    },
    "id": "6DXQsg7aqvVv",
    "outputId": "61b21c97-c31f-4796-d299-bbbcf317a772"
   },
   "outputs": [
    {
     "data": {
      "text/plain": [
       "1.2623649438617415"
      ]
     },
     "execution_count": 15,
     "metadata": {},
     "output_type": "execute_result"
    }
   ],
   "source": [
    "# euclidean distance between two document  s1 and s2\n",
    "\n",
    "math.dist(df_t_exp1.iloc[1], df_t_exp1.iloc[2])"
   ]
  },
  {
   "cell_type": "code",
   "execution_count": 16,
   "metadata": {
    "id": "cLlzDIfhJk0n"
   },
   "outputs": [
    {
     "data": {
      "text/plain": [
       "0.9194300544993212"
      ]
     },
     "execution_count": 16,
     "metadata": {},
     "output_type": "execute_result"
    }
   ],
   "source": [
    "# euclidean distance between two document  s0 and s1\n",
    "\n",
    "math.dist(df_t_exp1.iloc[0], df_t_exp1.iloc[1])"
   ]
  },
  {
   "cell_type": "code",
   "execution_count": 17,
   "metadata": {},
   "outputs": [
    {
     "data": {
      "text/plain": [
       "1.2982006665010317"
      ]
     },
     "execution_count": 17,
     "metadata": {},
     "output_type": "execute_result"
    }
   ],
   "source": [
    "# euclidean distance between two document  s2 and s0\n",
    "\n",
    "math.dist(df_t_exp1.iloc[2], df_t_exp1.iloc[0])"
   ]
  },
  {
   "cell_type": "code",
   "execution_count": null,
   "metadata": {},
   "outputs": [],
   "source": []
  }
 ],
 "metadata": {
  "colab": {
   "provenance": []
  },
  "kernelspec": {
   "display_name": "Python 3 (ipykernel)",
   "language": "python",
   "name": "python3"
  },
  "language_info": {
   "codemirror_mode": {
    "name": "ipython",
    "version": 3
   },
   "file_extension": ".py",
   "mimetype": "text/x-python",
   "name": "python",
   "nbconvert_exporter": "python",
   "pygments_lexer": "ipython3",
   "version": "3.10.5"
  }
 },
 "nbformat": 4,
 "nbformat_minor": 1
}
