{
 "cells": [
  {
   "cell_type": "code",
   "execution_count": 1,
   "id": "6b8b0480",
   "metadata": {},
   "outputs": [],
   "source": [
    "# Sep 15, 2023\n",
    "# CSC461 – Assignment1 – Web Scraping\n",
    "# Muhammad Umer Aamir\n",
    "# FA21-BSE-114\n",
    "# Scrap website and find birthdate and events."
   ]
  },
  {
   "cell_type": "code",
   "execution_count": 2,
   "id": "e3cabfa0",
   "metadata": {},
   "outputs": [],
   "source": [
    "# import packages\n",
    "import requests as req\n",
    "import pandas as pd\n",
    "import json\n",
    "from bs4 import BeautifulSoup as bp\n",
    "import datetime"
   ]
  },
  {
   "cell_type": "code",
   "execution_count": 3,
   "id": "fa5733b8",
   "metadata": {},
   "outputs": [],
   "source": [
    "# Declarations\n",
    "timedate_link = \"https://www.timeanddate.com/on-this-day\"\n",
    "event_link = \"https://www.britannica.com/on-this-day\""
   ]
  },
  {
   "cell_type": "code",
   "execution_count": 4,
   "id": "23a6234f",
   "metadata": {},
   "outputs": [],
   "source": [
    "# Get Request\n",
    "birth_response = req.get(timedate_link)\n",
    "event_response = req.get(event_link)"
   ]
  },
  {
   "cell_type": "code",
   "execution_count": 5,
   "id": "33b3dce6",
   "metadata": {},
   "outputs": [],
   "source": [
    "# Beautify timedate and getting shrared birthdays if request status code is ok (200)\n",
    "birth_data = []\n",
    "if birth_response.status_code ==200 :\n",
    "    birth_soup = bp(birth_response.text , 'html5lib')\n",
    "    birth_div = birth_soup.find('div' , attrs={'class' : 'otd-life__block'})\n",
    "    for i in birth_div.ul:\n",
    "        birth_data.append({\n",
    "            \"name\" : i.h3.text,\n",
    "            \"role\" :i.p.text\n",
    "        })\n",
    "else:\n",
    "    print(timedate_link ,\"Can be fetch. Erorr : \" ,birth_response.status_code)\n",
    "    "
   ]
  },
  {
   "cell_type": "code",
   "execution_count": 6,
   "id": "334d8938",
   "metadata": {},
   "outputs": [],
   "source": [
    "# Beautify event request if status is ok (200)\n",
    "events = []\n",
    "if event_response.status_code ==200 :\n",
    "    event_soup = bp(event_response.text , 'html5lib')\n",
    "    \n",
    "    # Getting featured event.  \n",
    "    \n",
    "    featuer_event = event_soup.find('div' , attrs={'class' : 'featured-event-card card'})\n",
    "    events.append({\n",
    "        \"title\" : featuer_event.find('div' , attrs = {'class' : 'title'}).text,\n",
    "        \"year\" : int(featuer_event.find('div' , attrs={'class' :'date-label'}).text.strip())\n",
    "    })\n",
    "    \n",
    "    # Getting other events.\n",
    "    \n",
    "    for i in event_soup.find_all('div' , attrs={'class' :'md-history-event'}):\n",
    "        title = i.find('div' , attrs={'class' : 'card-body'}).text.strip()\n",
    "        title = title[:title.find('.')]\n",
    "        events.append({\n",
    "            \"title\" : title,\n",
    "            \"year\" : int(i.div.div.text)\n",
    "        })\n",
    "else:\n",
    "    print(event_link ,\"Can be fetch. Erorr : \" ,event_link.status_code)"
   ]
  },
  {
   "cell_type": "code",
   "execution_count": 7,
   "id": "15c112a3",
   "metadata": {},
   "outputs": [],
   "source": [
    "# Creating file\n",
    "file = 'events.txt'\n",
    "\n",
    "# opening file \n",
    "with open(file, \"w\") as file:\n",
    "    file.write(f\"Shared Birthday's on {datetime.datetime.now().strftime('%d, %B')} are: \\n\")\n",
    "    for index, birth in enumerate(birth_data):\n",
    "        file.write(f\"{index+1}. {birth['name']}\\n\")\n",
    "    file.write(f\"\\nEvents on {datetime.datetime.now().strftime('%d, %B')} are: \\n\")\n",
    "    for index, event in enumerate(events):\n",
    "        file.write(f\"{index+1}. {event['year']} - {event['title']}.\\n\")\n",
    "        "
   ]
  },
  {
   "cell_type": "code",
   "execution_count": null,
   "id": "297ccc9e",
   "metadata": {},
   "outputs": [],
   "source": []
  }
 ],
 "metadata": {
  "kernelspec": {
   "display_name": "Python 3 (ipykernel)",
   "language": "python",
   "name": "python3"
  },
  "language_info": {
   "codemirror_mode": {
    "name": "ipython",
    "version": 3
   },
   "file_extension": ".py",
   "mimetype": "text/x-python",
   "name": "python",
   "nbconvert_exporter": "python",
   "pygments_lexer": "ipython3",
   "version": "3.10.5"
  }
 },
 "nbformat": 4,
 "nbformat_minor": 5
}
