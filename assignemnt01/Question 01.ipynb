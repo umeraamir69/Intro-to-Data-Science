{
 "cells": [
  {
   "cell_type": "code",
   "execution_count": 1,
   "id": "35ae87b1",
   "metadata": {},
   "outputs": [],
   "source": [
    "# Sep 15, 2023\n",
    "# CSC461 – Assignment1 – Web Scraping\n",
    "# Muhammad Umer Aamir\n",
    "# FA21-BSE-114\n",
    "# Scrap 5 favourite movies name from IMDB and stored their name and raitings in excel file."
   ]
  },
  {
   "cell_type": "code",
   "execution_count": 2,
   "id": "e0bb30ff",
   "metadata": {},
   "outputs": [],
   "source": [
    "# import packages \n",
    "import requests \n",
    "import time\n",
    "import json\n",
    "from bs4 import BeautifulSoup\n",
    "from decimal import Decimal\n",
    "import pandas as pd"
   ]
  },
  {
   "cell_type": "code",
   "execution_count": 3,
   "id": "98fc3d8f",
   "metadata": {},
   "outputs": [],
   "source": [
    "# Declarations.\n",
    "movies_id = [\"tt1954470\" , \"tt10083340\" , \"tt7816386\" , \"tt21909764\"  , \"tt5970844\" ]\n",
    "link = \"https://www.imdb.com/title/\"\n",
    "headers = {\n",
    "    \"User-Agent\": \"Mozilla/5.0 (Windows NT 10.0; Win64; x64) AppleWebKit/537.36 (KHTML, like Gecko) Chrome/58.0.3029.110 Safari/537.36\"\n",
    "}\n",
    "movies_data = []"
   ]
  },
  {
   "cell_type": "code",
   "execution_count": 4,
   "id": "9f52ea4c",
   "metadata": {},
   "outputs": [],
   "source": [
    "# Sending get request and scrap data from response if response code is ok (200).\n",
    "for link in movies_id:\n",
    "    response = requests.get(\"https://www.imdb.com/title/\"+link , headers=headers)\n",
    "    if response.status_code == 200:\n",
    "        soup = BeautifulSoup(response.text, 'html5lib')\n",
    "        data = {\n",
    "            \"Title\" : soup.find('span' , attrs={'class' : 'sc-afe43def-1 fDTGTb'}).text,\n",
    "            \"Rating\" : float(soup.find('span', attrs={'class': 'sc-bde20123-1 iZlgcd'}).text)\n",
    "        }\n",
    "        movies_data.append(data)\n",
    "#         print(data)\n",
    "    else :\n",
    "        print(response.status_code + \"error Occured\")\n",
    "    time.sleep(2)"
   ]
  },
  {
   "cell_type": "code",
   "execution_count": 7,
   "id": "1dad17a8",
   "metadata": {
    "scrolled": true
   },
   "outputs": [
    {
     "name": "stdout",
     "output_type": "stream",
     "text": [
      "Excel File Generated\n"
     ]
    }
   ],
   "source": [
    "# Storing data in excel file is list is not empty.\n",
    "if movies_data is not None :\n",
    "    data_file = \"movies.xlsx\"\n",
    "    dataframe = pd.DataFrame(movies_data)\n",
    "    dataframe.to_excel(data_file, index=False)\n",
    "    print (\"Excel File Generated\")\n",
    "else :\n",
    "    print(\"No movie deatil found.\")"
   ]
  },
  {
   "cell_type": "code",
   "execution_count": null,
   "id": "fcc2e354",
   "metadata": {},
   "outputs": [],
   "source": []
  }
 ],
 "metadata": {
  "kernelspec": {
   "display_name": "Python 3 (ipykernel)",
   "language": "python",
   "name": "python3"
  },
  "language_info": {
   "codemirror_mode": {
    "name": "ipython",
    "version": 3
   },
   "file_extension": ".py",
   "mimetype": "text/x-python",
   "name": "python",
   "nbconvert_exporter": "python",
   "pygments_lexer": "ipython3",
   "version": "3.10.5"
  }
 },
 "nbformat": 4,
 "nbformat_minor": 5
}
